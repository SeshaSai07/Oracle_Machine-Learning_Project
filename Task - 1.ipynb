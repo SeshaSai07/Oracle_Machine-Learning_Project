{
 "cells": [
  {
   "cell_type": "code",
   "execution_count": null,
   "id": "a97e0fd6",
   "metadata": {},
   "outputs": [],
   "source": [
    "#Import Necessary Libraries\n",
    "import pandas as pd\n",
    "from sklearn.linear_model import LogisticRegression\n",
    "# So the first line here, this line imports the pandas library and aliases it as a PD. Pandas is used for data manipulation and provides data structures like data frames and series for handling data efficiently.\n",
    "# The second line, this imports the logistic regression class from scikit learn or sklearn library.\n",
    "# The scikit learn is a popular machine learning library that provides tool for data preprocessing, model training, and evaluation.\n",
    "# If you run this cell, you might not be able to successfully import these libraries if these are not the part of your kernel."
   ]
  },
  {
   "cell_type": "code",
   "execution_count": null,
   "id": "473122e2",
   "metadata": {},
   "outputs": [
    {
     "data": {
      "text/html": [
       "<div>\n",
       "<style scoped>\n",
       "    .dataframe tbody tr th:only-of-type {\n",
       "        vertical-align: middle;\n",
       "    }\n",
       "\n",
       "    .dataframe tbody tr th {\n",
       "        vertical-align: top;\n",
       "    }\n",
       "\n",
       "    .dataframe thead th {\n",
       "        text-align: right;\n",
       "    }\n",
       "</style>\n",
       "<table border=\"1\" class=\"dataframe\">\n",
       "  <thead>\n",
       "    <tr style=\"text-align: right;\">\n",
       "      <th></th>\n",
       "      <th>sepal.length</th>\n",
       "      <th>sepal.width</th>\n",
       "      <th>petal.length</th>\n",
       "      <th>petal.width</th>\n",
       "      <th>variety</th>\n",
       "    </tr>\n",
       "  </thead>\n",
       "  <tbody>\n",
       "    <tr>\n",
       "      <th>0</th>\n",
       "      <td>5.1</td>\n",
       "      <td>3.5</td>\n",
       "      <td>1.4</td>\n",
       "      <td>0.2</td>\n",
       "      <td>Setosa</td>\n",
       "    </tr>\n",
       "    <tr>\n",
       "      <th>1</th>\n",
       "      <td>4.9</td>\n",
       "      <td>3.0</td>\n",
       "      <td>1.4</td>\n",
       "      <td>0.2</td>\n",
       "      <td>Setosa</td>\n",
       "    </tr>\n",
       "    <tr>\n",
       "      <th>2</th>\n",
       "      <td>4.7</td>\n",
       "      <td>3.2</td>\n",
       "      <td>1.3</td>\n",
       "      <td>0.2</td>\n",
       "      <td>Setosa</td>\n",
       "    </tr>\n",
       "    <tr>\n",
       "      <th>3</th>\n",
       "      <td>4.6</td>\n",
       "      <td>3.1</td>\n",
       "      <td>1.5</td>\n",
       "      <td>0.2</td>\n",
       "      <td>Setosa</td>\n",
       "    </tr>\n",
       "    <tr>\n",
       "      <th>4</th>\n",
       "      <td>5.0</td>\n",
       "      <td>3.6</td>\n",
       "      <td>1.4</td>\n",
       "      <td>0.2</td>\n",
       "      <td>Setosa</td>\n",
       "    </tr>\n",
       "  </tbody>\n",
       "</table>\n",
       "</div>"
      ],
      "text/plain": [
       "   sepal.length  sepal.width  petal.length  petal.width variety\n",
       "0           5.1          3.5           1.4          0.2  Setosa\n",
       "1           4.9          3.0           1.4          0.2  Setosa\n",
       "2           4.7          3.2           1.3          0.2  Setosa\n",
       "3           4.6          3.1           1.5          0.2  Setosa\n",
       "4           5.0          3.6           1.4          0.2  Setosa"
      ]
     },
     "execution_count": 2,
     "metadata": {},
     "output_type": "execute_result"
    }
   ],
   "source": [
    "#Loading the dataset and displaying the First Few Rows\n",
    "iris_data = pd.read_csv('iris.csv')\n",
    "iris_data.head()\n",
    "# We will load the data set and display the first few rows. \n",
    "# We use pandas to read a CSV file named iris.csv and store it in a dataframe called iris_data. \n",
    "# This line loads the data set into memory, making it available for analysis. \n",
    "# This data set, often called the iris data set, contain information about different species of iris flowers.\n",
    "# A head method is used to inspect the data set and get a quick overview of its content. \n",
    "# This is a very helpful step to understand the structure of your data."
   ]
  },
  {
   "cell_type": "code",
   "execution_count": null,
   "id": "2171fec3",
   "metadata": {},
   "outputs": [],
   "source": [
    "# Split the data into features (X) and labels(Y).\n",
    "x = iris_data.drop(columns=['petal.width', 'variety'])\n",
    "y = iris_data['variety']\n",
    "# In the next step, we will split the data into features x and label y the features denoted as x contains the attributes of the iris flowers, while the labels denoted as y represents the species of the iris.\n",
    "# So we also got rid of the ID, this column, which is not a useful attribute for the flower. \n",
    "# It's just a numbering for our rows."
   ]
  },
  {
   "cell_type": "code",
   "execution_count": 4,
   "id": "fba80999",
   "metadata": {},
   "outputs": [
    {
     "data": {
      "text/html": [
       "<div>\n",
       "<style scoped>\n",
       "    .dataframe tbody tr th:only-of-type {\n",
       "        vertical-align: middle;\n",
       "    }\n",
       "\n",
       "    .dataframe tbody tr th {\n",
       "        vertical-align: top;\n",
       "    }\n",
       "\n",
       "    .dataframe thead th {\n",
       "        text-align: right;\n",
       "    }\n",
       "</style>\n",
       "<table border=\"1\" class=\"dataframe\">\n",
       "  <thead>\n",
       "    <tr style=\"text-align: right;\">\n",
       "      <th></th>\n",
       "      <th>sepal.length</th>\n",
       "      <th>sepal.width</th>\n",
       "      <th>petal.length</th>\n",
       "    </tr>\n",
       "  </thead>\n",
       "  <tbody>\n",
       "    <tr>\n",
       "      <th>0</th>\n",
       "      <td>5.1</td>\n",
       "      <td>3.5</td>\n",
       "      <td>1.4</td>\n",
       "    </tr>\n",
       "    <tr>\n",
       "      <th>1</th>\n",
       "      <td>4.9</td>\n",
       "      <td>3.0</td>\n",
       "      <td>1.4</td>\n",
       "    </tr>\n",
       "    <tr>\n",
       "      <th>2</th>\n",
       "      <td>4.7</td>\n",
       "      <td>3.2</td>\n",
       "      <td>1.3</td>\n",
       "    </tr>\n",
       "    <tr>\n",
       "      <th>3</th>\n",
       "      <td>4.6</td>\n",
       "      <td>3.1</td>\n",
       "      <td>1.5</td>\n",
       "    </tr>\n",
       "    <tr>\n",
       "      <th>4</th>\n",
       "      <td>5.0</td>\n",
       "      <td>3.6</td>\n",
       "      <td>1.4</td>\n",
       "    </tr>\n",
       "  </tbody>\n",
       "</table>\n",
       "</div>"
      ],
      "text/plain": [
       "   sepal.length  sepal.width  petal.length\n",
       "0           5.1          3.5           1.4\n",
       "1           4.9          3.0           1.4\n",
       "2           4.7          3.2           1.3\n",
       "3           4.6          3.1           1.5\n",
       "4           5.0          3.6           1.4"
      ]
     },
     "execution_count": 4,
     "metadata": {},
     "output_type": "execute_result"
    }
   ],
   "source": [
    "x.head()"
   ]
  },
  {
   "cell_type": "code",
   "execution_count": null,
   "id": "7fecb339",
   "metadata": {},
   "outputs": [],
   "source": [
    "#Create a Ml model\n",
    "model = LogisticRegression()\n",
    "# In the next step, we will create a machine learning model. So as I discussed about logistic regression, this is a classifier. In this demo, we will initialize it as model=LogisticRegression method using this logistic regression class we imported earlier.\n",
    "# This line initializes the model with default settings."
   ]
  },
  {
   "cell_type": "code",
   "execution_count": null,
   "id": "8fe5d651",
   "metadata": {},
   "outputs": [
    {
     "data": {
      "text/plain": [
       "LogisticRegression()"
      ]
     },
     "execution_count": 6,
     "metadata": {},
     "output_type": "execute_result"
    }
   ],
   "source": [
    "#train the Model\n",
    "model.fit(x.values, y)\n",
    "# Next will come the training part. \n",
    "# So in this step, we will train our model. \n",
    "# This fit method is called to train the logistic regression model on features x and their corresponding labels y. \n",
    "# This step involves learning the relationship between the features and the target variable."
   ]
  },
  {
   "cell_type": "code",
   "execution_count": null,
   "id": "008d4cd4",
   "metadata": {},
   "outputs": [],
   "source": [
    "# predict using the trained model\n",
    "predictions = model.predict([[4.6, 3.5, 1.5]])\n",
    "# Once our model is trained, next comes the predictions. \n",
    "# So let's make prediction on a few data points.\n",
    "# You can see these data points here. \n",
    "# This will act as an attribute for, let's say, unseen data\n"
   ]
  },
  {
   "cell_type": "code",
   "execution_count": null,
   "id": "9be78b78",
   "metadata": {},
   "outputs": [
    {
     "name": "stdout",
     "output_type": "stream",
     "text": [
      "['Setosa']\n"
     ]
    }
   ],
   "source": [
    "# print the predicitions.\n",
    "print(predictions)\n",
    "# Now let's print the prediction to the console. \n",
    "# This line here will display the predicted species of iris flower based on these given input feature values. \n",
    "# The predictions on the basis of these inputs came out to be iris setosa."
   ]
  },
  {
   "cell_type": "code",
   "execution_count": null,
   "id": "4c66c7cb",
   "metadata": {},
   "outputs": [],
   "source": []
  }
 ],
 "metadata": {
  "kernelspec": {
   "display_name": "Python 3 (ipykernel)",
   "language": "python",
   "name": "python3"
  },
  "language_info": {
   "codemirror_mode": {
    "name": "ipython",
    "version": 3
   },
   "file_extension": ".py",
   "mimetype": "text/x-python",
   "name": "python",
   "nbconvert_exporter": "python",
   "pygments_lexer": "ipython3",
   "version": "3.9.16"
  }
 },
 "nbformat": 4,
 "nbformat_minor": 5
}
